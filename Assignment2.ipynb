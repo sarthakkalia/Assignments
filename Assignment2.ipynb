{
 "cells": [
  {
   "cell_type": "markdown",
   "id": "edc76c91",
   "metadata": {},
   "source": [
    "Q1. How do you comment code in Python? What are the different types of comments?"
   ]
  },
  {
   "cell_type": "markdown",
   "id": "9af3a0d9",
   "metadata": {},
   "source": [
    "Ans:   Python comment are the lines in the code that are ignored by the interpreter during the execution of the program.\n",
    "    single line comment are given using '#' this key and multilines comments are given using ''' key.\n",
    "    ex:"
   ]
  },
  {
   "cell_type": "code",
   "execution_count": 2,
   "id": "561f0e09",
   "metadata": {},
   "outputs": [
    {
     "data": {
      "text/plain": [
       "'\\n    Welcome to PW Skills.\\n    This is Data Science Master 2.0 course.\\n    This is my multilines comments.\\n'"
      ]
     },
     "execution_count": 2,
     "metadata": {},
     "output_type": "execute_result"
    }
   ],
   "source": [
    "#hey this is my single comment using python\n",
    "'''\n",
    "    Welcome to PW Skills.\n",
    "    This is Data Science Master 2.0 course.\n",
    "    This is my multilines comments.\n",
    "'''"
   ]
  },
  {
   "cell_type": "markdown",
   "id": "a8f5249b",
   "metadata": {},
   "source": [
    "Q2. What are variables in Python? How do you declare and assign values to variables?"
   ]
  },
  {
   "cell_type": "code",
   "execution_count": 3,
   "id": "545f7c9f",
   "metadata": {},
   "outputs": [],
   "source": [
    "# variables are container which stores values.\n",
    "a=5\n",
    "b=5.6\n",
    "c=\"PW Skills\"\n",
    "d=6+5j\n",
    "#declaration of variable and assign of value"
   ]
  },
  {
   "cell_type": "markdown",
   "id": "140b70b8",
   "metadata": {},
   "source": [
    "Q3. How do you convert one data type to another in Python?"
   ]
  },
  {
   "cell_type": "code",
   "execution_count": 8,
   "id": "6b53ec0c",
   "metadata": {},
   "outputs": [
    {
     "data": {
      "text/plain": [
       "int"
      ]
     },
     "execution_count": 8,
     "metadata": {},
     "output_type": "execute_result"
    }
   ],
   "source": [
    "#we convert one data type to another data type using int(),float(),string() in-built function in python.\n",
    "# let us consider an example\n",
    "a=45.643829\n",
    "b=int(a)\n",
    "type(b)"
   ]
  },
  {
   "cell_type": "markdown",
   "id": "7a3b5643",
   "metadata": {},
   "source": [
    "Q4. How do you write and execute a Python script from the command line"
   ]
  },
  {
   "cell_type": "markdown",
   "id": "4eab1a91",
   "metadata": {},
   "source": [
    "First open a text editor and write a python code then save the python code with a '.py' extension.\n",
    "Open the Command line and execute it by using 'python file_name.py' and view the output."
   ]
  },
  {
   "cell_type": "markdown",
   "id": "9575a682",
   "metadata": {},
   "source": [
    "Q5. Given a list my_list = [1, 2, 3, 4, 5], write the code to slice the list and obtain the sub-list [2, 3]."
   ]
  },
  {
   "cell_type": "code",
   "execution_count": 20,
   "id": "0d04455b",
   "metadata": {},
   "outputs": [
    {
     "data": {
      "text/plain": [
       "[2, 3]"
      ]
     },
     "execution_count": 20,
     "metadata": {},
     "output_type": "execute_result"
    }
   ],
   "source": [
    "my_list[1:3]"
   ]
  },
  {
   "cell_type": "markdown",
   "id": "5ab30699",
   "metadata": {},
   "source": [
    "Q6. What is a complex number in mathematics, and how is it represented in Python?"
   ]
  },
  {
   "cell_type": "code",
   "execution_count": 15,
   "id": "caa65f03",
   "metadata": {},
   "outputs": [
    {
     "name": "stdout",
     "output_type": "stream",
     "text": [
      "5.0\n",
      "6.0\n"
     ]
    }
   ],
   "source": [
    "a=5+6j #complex number in python.(only j is used)\n",
    "print(a.real)\n",
    "print(a.imag)"
   ]
  },
  {
   "cell_type": "markdown",
   "id": "d87b9b17",
   "metadata": {},
   "source": [
    "Q7. What is the correct way to declare a variable named age and assign the value 25 to it?"
   ]
  },
  {
   "cell_type": "markdown",
   "id": "2dcb1d19",
   "metadata": {},
   "source": [
    "age=25"
   ]
  },
  {
   "cell_type": "markdown",
   "id": "f4622371",
   "metadata": {},
   "source": [
    "Q8. Declare a variable named price and assign the value 9.99 to it. What data type does this variable \n",
    "belong to?"
   ]
  },
  {
   "cell_type": "markdown",
   "id": "29da7892",
   "metadata": {},
   "source": [
    "float"
   ]
  },
  {
   "cell_type": "markdown",
   "id": "cbd3ec72",
   "metadata": {},
   "source": [
    "Q9. Create a variable named name and assign your full name to it as a string. How would you print the \n",
    "value of this variable?"
   ]
  },
  {
   "cell_type": "code",
   "execution_count": 16,
   "id": "adb161b9",
   "metadata": {},
   "outputs": [
    {
     "name": "stdout",
     "output_type": "stream",
     "text": [
      "Sarthak Kumar Kalia\n"
     ]
    }
   ],
   "source": [
    "name=\"Sarthak Kumar Kalia\"\n",
    "print(name)"
   ]
  },
  {
   "cell_type": "markdown",
   "id": "16b2b61a",
   "metadata": {},
   "source": [
    "Q10. Given the string \"Hello, World!\", extract the substring \"World\".\n"
   ]
  },
  {
   "cell_type": "code",
   "execution_count": 18,
   "id": "fb6059c0",
   "metadata": {},
   "outputs": [
    {
     "data": {
      "text/plain": [
       "'World'"
      ]
     },
     "execution_count": 18,
     "metadata": {},
     "output_type": "execute_result"
    }
   ],
   "source": [
    "str=\"Hello, World!\"\n",
    "str[7:12]"
   ]
  },
  {
   "cell_type": "markdown",
   "id": "9ea1e207",
   "metadata": {},
   "source": [
    "Q11. Create a variable named \"is_student\" and assign it a boolean value indicating whether you are \n",
    "currently a student or not."
   ]
  },
  {
   "cell_type": "code",
   "execution_count": 19,
   "id": "2efba710",
   "metadata": {},
   "outputs": [],
   "source": [
    "is_student=True"
   ]
  }
 ],
 "metadata": {
  "kernelspec": {
   "display_name": "Python 3 (ipykernel)",
   "language": "python",
   "name": "python3"
  },
  "language_info": {
   "codemirror_mode": {
    "name": "ipython",
    "version": 3
   },
   "file_extension": ".py",
   "mimetype": "text/x-python",
   "name": "python",
   "nbconvert_exporter": "python",
   "pygments_lexer": "ipython3",
   "version": "3.11.4"
  }
 },
 "nbformat": 4,
 "nbformat_minor": 5
}
