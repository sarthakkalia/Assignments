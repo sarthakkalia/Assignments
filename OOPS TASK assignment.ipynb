{
 "cells": [
  {
   "cell_type": "markdown",
   "id": "f7f68850",
   "metadata": {},
   "source": [
    "Q1, Create a vehicle class with an init method having instance variables as name_of_vehicle, max_speed \n",
    "and average_of_vehicle."
   ]
  },
  {
   "cell_type": "code",
   "execution_count": 1,
   "id": "f7a4ef8d",
   "metadata": {},
   "outputs": [],
   "source": [
    "class vehicle:\n",
    "    def __init__(self,name_of_vehicle,max_speed,average_of_vehicle):\n",
    "        self.name_of_vehicle=name_of_vehicle\n",
    "        self.max_speed=max_speed\n",
    "        self.average_of_vehicle=average_of_vehicle\n",
    "    def return_vehicle(self):\n",
    "        return self.name_of_vehicle,self.max_speed,self.average_of_vehicle"
   ]
  },
  {
   "cell_type": "code",
   "execution_count": 2,
   "id": "5ac45f1a",
   "metadata": {},
   "outputs": [],
   "source": [
    "a=vehicle(\"Hero Honda\",140,60)"
   ]
  },
  {
   "cell_type": "code",
   "execution_count": 3,
   "id": "3d540625",
   "metadata": {},
   "outputs": [
    {
     "data": {
      "text/plain": [
       "('Hero Honda', 140, 60)"
      ]
     },
     "execution_count": 3,
     "metadata": {},
     "output_type": "execute_result"
    }
   ],
   "source": [
    "a.return_vehicle()"
   ]
  },
  {
   "cell_type": "markdown",
   "id": "e0fad8b0",
   "metadata": {},
   "source": [
    "Q2.  Create a child class car from the vehicle class created in Que 1, which will inherit the vehicle class. \n",
    "Create a method named seating_capacity which takes capacity as an argument and returns the name of \n",
    "the vehicle and its seating capacity."
   ]
  },
  {
   "cell_type": "code",
   "execution_count": 5,
   "id": "e3a11614",
   "metadata": {},
   "outputs": [
    {
     "data": {
      "text/plain": [
       "('Toyota', 6)"
      ]
     },
     "execution_count": 5,
     "metadata": {},
     "output_type": "execute_result"
    }
   ],
   "source": [
    "class vehicle:\n",
    "    \n",
    "    def __init__(self,name_of_vehicle,max_speed,average_of_vehicle):\n",
    "        self.name_of_vehicle=name_of_vehicle\n",
    "        self.max_speed=max_speed\n",
    "        self.average_of_vehicle=average_of_vehicle\n",
    "    def return_vehicle(self):\n",
    "        return self.name_of_vehicle,self.max_speed,self.average_of_vehicle\n",
    "    \n",
    "    \n",
    "class car(vehicle):\n",
    "    def seating_capacity(self,capacity):\n",
    "        return self.name_of_vehicle,capacity\n",
    "    \n",
    "x=car(\"Toyota\",140,60)\n",
    "x.seating_capacity(6)"
   ]
  },
  {
   "cell_type": "markdown",
   "id": "ef2d6977",
   "metadata": {},
   "source": [
    "3. What is multiple inheritance? Write a python code to demonstrate multiple inheritance."
   ]
  },
  {
   "cell_type": "markdown",
   "id": "8cc569b2",
   "metadata": {},
   "source": [
    "When a class is derived from more than one base class it is called multiple Inheritance."
   ]
  },
  {
   "cell_type": "code",
   "execution_count": 6,
   "id": "c704aad4",
   "metadata": {},
   "outputs": [],
   "source": [
    "class class1:\n",
    "    def fun_cls1(self):\n",
    "        return \"This is class 1\"\n",
    "class class2:\n",
    "    def fun_cls2(self):\n",
    "        return \"This is class 2\"\n",
    "class class3(class1,class2):\n",
    "    pass"
   ]
  },
  {
   "cell_type": "code",
   "execution_count": 7,
   "id": "3333427a",
   "metadata": {},
   "outputs": [],
   "source": [
    "a=class3()"
   ]
  },
  {
   "cell_type": "code",
   "execution_count": 8,
   "id": "ff512988",
   "metadata": {},
   "outputs": [
    {
     "data": {
      "text/plain": [
       "'This is class 1'"
      ]
     },
     "execution_count": 8,
     "metadata": {},
     "output_type": "execute_result"
    }
   ],
   "source": [
    "a.fun_cls1()"
   ]
  },
  {
   "cell_type": "code",
   "execution_count": 9,
   "id": "db2d6326",
   "metadata": {},
   "outputs": [
    {
     "data": {
      "text/plain": [
       "'This is class 2'"
      ]
     },
     "execution_count": 9,
     "metadata": {},
     "output_type": "execute_result"
    }
   ],
   "source": [
    "a.fun_cls2()"
   ]
  },
  {
   "cell_type": "markdown",
   "id": "58dc50f8",
   "metadata": {},
   "source": [
    "Q4. What are getter and setter in python? Create a class and create a getter and a setter method in this \n",
    "class."
   ]
  },
  {
   "cell_type": "markdown",
   "id": "af03af05",
   "metadata": {},
   "source": [
    "Getter is a method that allow to access an attribute in a given class and setter method allow to set the value of an attribute in a class."
   ]
  },
  {
   "cell_type": "code",
   "execution_count": 5,
   "id": "a307699e",
   "metadata": {},
   "outputs": [],
   "source": [
    "class home:\n",
    "    def __init__(self,name,mob):\n",
    "        self.name=name\n",
    "        self.__mob=mob\n",
    "    \n",
    "    @property\n",
    "    def access_mobile_num(self):\n",
    "        return self.__mob\n",
    "    \n",
    "    @access_mobile_num.setter\n",
    "    def change_mob(self,mobile):\n",
    "        self.__mob=mobile\n",
    "    "
   ]
  },
  {
   "cell_type": "code",
   "execution_count": 6,
   "id": "94024982",
   "metadata": {},
   "outputs": [],
   "source": [
    "hm=home(\"Sarthak Kalia\",\"918337962218\")"
   ]
  },
  {
   "cell_type": "code",
   "execution_count": 7,
   "id": "7145b414",
   "metadata": {},
   "outputs": [
    {
     "data": {
      "text/plain": [
       "'918337962218'"
      ]
     },
     "execution_count": 7,
     "metadata": {},
     "output_type": "execute_result"
    }
   ],
   "source": [
    "hm.access_mobile_num"
   ]
  },
  {
   "cell_type": "code",
   "execution_count": 8,
   "id": "6bd2d904",
   "metadata": {},
   "outputs": [],
   "source": [
    "hm.change_mob=917983429486"
   ]
  },
  {
   "cell_type": "code",
   "execution_count": 9,
   "id": "bd50825f",
   "metadata": {},
   "outputs": [
    {
     "data": {
      "text/plain": [
       "917983429486"
      ]
     },
     "execution_count": 9,
     "metadata": {},
     "output_type": "execute_result"
    }
   ],
   "source": [
    "hm.access_mobile_num"
   ]
  },
  {
   "cell_type": "markdown",
   "id": "9e89d5a9",
   "metadata": {},
   "source": [
    "Q5.What is method overriding in python? Write a python code to demonstrate method overriding."
   ]
  },
  {
   "cell_type": "markdown",
   "id": "4b0e37e2",
   "metadata": {},
   "source": [
    "Method overriding in Python is when you have two methods with the same name that each perform different tasks. In method overriding, the child class can change its functions that are defined by its ancestral classes."
   ]
  },
  {
   "cell_type": "code",
   "execution_count": 13,
   "id": "e2002bca",
   "metadata": {},
   "outputs": [],
   "source": [
    "class student:\n",
    "    def show(self):\n",
    "        print(\"This is a student showing function\")"
   ]
  },
  {
   "cell_type": "code",
   "execution_count": 15,
   "id": "ff2207ab",
   "metadata": {},
   "outputs": [],
   "source": [
    "class course(student):\n",
    "    def show(self):\n",
    "        print(\"This is a course which enrolled by student\")"
   ]
  },
  {
   "cell_type": "code",
   "execution_count": 16,
   "id": "7bd5b51f",
   "metadata": {},
   "outputs": [],
   "source": [
    "std=course()"
   ]
  },
  {
   "cell_type": "code",
   "execution_count": 17,
   "id": "ce9d8e9f",
   "metadata": {},
   "outputs": [
    {
     "name": "stdout",
     "output_type": "stream",
     "text": [
      "This is a course which enrolled by student\n"
     ]
    }
   ],
   "source": [
    "std.show()"
   ]
  },
  {
   "cell_type": "code",
   "execution_count": 19,
   "id": "18e368a9",
   "metadata": {},
   "outputs": [
    {
     "name": "stdout",
     "output_type": "stream",
     "text": [
      "This is a student showing function\n"
     ]
    }
   ],
   "source": [
    "std=student()\n",
    "std.show()"
   ]
  }
 ],
 "metadata": {
  "kernelspec": {
   "display_name": "Python 3 (ipykernel)",
   "language": "python",
   "name": "python3"
  },
  "language_info": {
   "codemirror_mode": {
    "name": "ipython",
    "version": 3
   },
   "file_extension": ".py",
   "mimetype": "text/x-python",
   "name": "python",
   "nbconvert_exporter": "python",
   "pygments_lexer": "ipython3",
   "version": "3.11.4"
  }
 },
 "nbformat": 4,
 "nbformat_minor": 5
}
