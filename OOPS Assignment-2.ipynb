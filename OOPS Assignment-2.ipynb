{
 "cells": [
  {
   "cell_type": "markdown",
   "id": "54c890de",
   "metadata": {},
   "source": [
    "## OOPS Assignment 2"
   ]
  },
  {
   "cell_type": "markdown",
   "id": "ee8cead0",
   "metadata": {},
   "source": [
    " Q1. What is Abstraction in OOps? Explain with an example"
   ]
  },
  {
   "cell_type": "markdown",
   "id": "69510da9",
   "metadata": {},
   "source": [
    "Abstraction is the process of hiding complex details and showing only essential features."
   ]
  },
  {
   "cell_type": "markdown",
   "id": "b7430060",
   "metadata": {},
   "source": [
    " For example, when driving a car, you only need to know how to start, stop, accelerate, and break the car. \n",
    " You don't need to know how the engine starts or what components the car has. "
   ]
  },
  {
   "cell_type": "code",
   "execution_count": 2,
   "id": "97ef0b19",
   "metadata": {},
   "outputs": [],
   "source": [
    "import abc\n",
    "class car:\n",
    "    @abc.abstractmethod\n",
    "    def start(self):\n",
    "        pass\n",
    "    @abc.abstractmethod\n",
    "    def stop(self):\n",
    "        pass\n",
    "    @abc.abstractmethod\n",
    "    def accelerate(self):\n",
    "        pass\n",
    "    @abc.abstractmethod\n",
    "    def breaking(self):\n",
    "        pass"
   ]
  },
  {
   "cell_type": "code",
   "execution_count": 3,
   "id": "0ada5702",
   "metadata": {},
   "outputs": [],
   "source": [
    "class mercedes(car):\n",
    "    def start(self):\n",
    "        print(\"This is a start of mercedes\")\n",
    "    def end(self):\n",
    "        print(\"This is an end of mercedes\")"
   ]
  },
  {
   "cell_type": "code",
   "execution_count": 4,
   "id": "68fb447c",
   "metadata": {},
   "outputs": [],
   "source": [
    "class rolls_royce(car):\n",
    "    def start(self):\n",
    "        print(\"This is a start of rolls royce\")\n",
    "    def breaing(self):\n",
    "        print(\"This is a breaking of rolls royce\")\n",
    "    def end(self):\n",
    "        print(\"This is an end of rolls royce\")"
   ]
  },
  {
   "cell_type": "code",
   "execution_count": 5,
   "id": "4177117d",
   "metadata": {},
   "outputs": [],
   "source": [
    "car1=mercedes()"
   ]
  },
  {
   "cell_type": "code",
   "execution_count": 6,
   "id": "5c6fd41d",
   "metadata": {},
   "outputs": [
    {
     "name": "stdout",
     "output_type": "stream",
     "text": [
      "This a start of mercedes\n"
     ]
    }
   ],
   "source": [
    "car1.start()"
   ]
  },
  {
   "cell_type": "code",
   "execution_count": 9,
   "id": "6ddf6b54",
   "metadata": {},
   "outputs": [],
   "source": [
    "car2=rolls_royce()"
   ]
  },
  {
   "cell_type": "code",
   "execution_count": 10,
   "id": "ce71a8dd",
   "metadata": {},
   "outputs": [
    {
     "name": "stdout",
     "output_type": "stream",
     "text": [
      "This is a start of rolls royce\n"
     ]
    }
   ],
   "source": [
    "car2.start()"
   ]
  },
  {
   "cell_type": "markdown",
   "id": "256064c1",
   "metadata": {},
   "source": [
    " Q2. Differentiate between Abstraction and Encapsulation. Explain with an example."
   ]
  },
  {
   "cell_type": "markdown",
   "id": "a996e44c",
   "metadata": {},
   "source": [
    "Abstraction is the method of hiding the unwanted information. Whereas encapsulation is a method to hide the data in a single entity or unit along with a method to protect information from outside. We can implement abstraction using abstract class and interfaces"
   ]
  },
  {
   "cell_type": "code",
   "execution_count": 11,
   "id": "4415f745",
   "metadata": {},
   "outputs": [],
   "source": [
    "# ex of Encapsulation.\n",
    "class account:\n",
    "    def __init__(self,acc_holder,acc_num,balance):\n",
    "        self.acc_holder=acc_holder\n",
    "        self.__acc_num=acc_num\n",
    "        self.__balance=balance"
   ]
  },
  {
   "cell_type": "code",
   "execution_count": 12,
   "id": "72cff26e",
   "metadata": {},
   "outputs": [],
   "source": [
    "p1=account(\"Sarthak Kalia\",123456789,1000)"
   ]
  },
  {
   "cell_type": "code",
   "execution_count": 14,
   "id": "cc7e8966",
   "metadata": {},
   "outputs": [
    {
     "data": {
      "text/plain": [
       "'Sarthak Kalia'"
      ]
     },
     "execution_count": 14,
     "metadata": {},
     "output_type": "execute_result"
    }
   ],
   "source": [
    "p1.acc_holder"
   ]
  },
  {
   "cell_type": "code",
   "execution_count": 16,
   "id": "1bcc4e28",
   "metadata": {},
   "outputs": [
    {
     "data": {
      "text/plain": [
       "1000"
      ]
     },
     "execution_count": 16,
     "metadata": {},
     "output_type": "execute_result"
    }
   ],
   "source": [
    "p1._account__balance #ex of encapsulation"
   ]
  },
  {
   "cell_type": "code",
   "execution_count": 17,
   "id": "c3c2870c",
   "metadata": {},
   "outputs": [
    {
     "data": {
      "text/plain": [
       "123456789"
      ]
     },
     "execution_count": 17,
     "metadata": {},
     "output_type": "execute_result"
    }
   ],
   "source": [
    "p1._account__acc_num"
   ]
  },
  {
   "cell_type": "code",
   "execution_count": 18,
   "id": "ba9dae1d",
   "metadata": {},
   "outputs": [],
   "source": [
    "#ex of abstraction\n",
    "import abc\n",
    "class pwskills:\n",
    "    @abc.abstractmethod\n",
    "    def std_det(self):\n",
    "        pass\n",
    "    @abc.abstractmethod\n",
    "    def std_mark(self):\n",
    "        pass"
   ]
  },
  {
   "cell_type": "code",
   "execution_count": 19,
   "id": "b0dbdd3d",
   "metadata": {},
   "outputs": [],
   "source": [
    "class data_sc(pwskills):\n",
    "    def std_det(self):\n",
    "        print(\"This is a student details fn of data science\")\n",
    "    def std_mark(self):\n",
    "        print(\"This is a student mark fun of data science\")"
   ]
  },
  {
   "cell_type": "code",
   "execution_count": 20,
   "id": "6517676b",
   "metadata": {},
   "outputs": [],
   "source": [
    "class wev_dev(pwskills):\n",
    "    def std_det(self):\n",
    "        print(\"This is a student details fn of Wev development\")\n",
    "    def std_mark(self):\n",
    "        print(\"This is a student mark fun of Wev development\")"
   ]
  },
  {
   "cell_type": "code",
   "execution_count": 21,
   "id": "6c5ff6f3",
   "metadata": {},
   "outputs": [],
   "source": [
    "ds=data_sc()"
   ]
  },
  {
   "cell_type": "code",
   "execution_count": 23,
   "id": "9a57a1df",
   "metadata": {},
   "outputs": [
    {
     "name": "stdout",
     "output_type": "stream",
     "text": [
      "This is a student details fn of data science\n"
     ]
    }
   ],
   "source": [
    "ds.std_det()"
   ]
  },
  {
   "cell_type": "code",
   "execution_count": 24,
   "id": "a64c871b",
   "metadata": {},
   "outputs": [],
   "source": [
    "wev=wev_dev()"
   ]
  },
  {
   "cell_type": "code",
   "execution_count": 25,
   "id": "2983dea9",
   "metadata": {},
   "outputs": [
    {
     "name": "stdout",
     "output_type": "stream",
     "text": [
      "This is a student details fn of Wev development\n"
     ]
    }
   ],
   "source": [
    "wev.std_det()"
   ]
  },
  {
   "cell_type": "markdown",
   "id": "a18ccf2a",
   "metadata": {},
   "source": [
    " Q3. What is abc module in python? Why is it used?"
   ]
  },
  {
   "cell_type": "markdown",
   "id": "5c201928",
   "metadata": {},
   "source": [
    "The 'abc' module in Python library provides the infrastructure for defining custom abstract base classes. 'abc' works by marking methods of the base class as abstract. This is done by @absttractmethod decorator."
   ]
  },
  {
   "cell_type": "markdown",
   "id": "9cd3ea56",
   "metadata": {},
   "source": [
    "Q4. How can we achieve data abstraction?"
   ]
  },
  {
   "cell_type": "markdown",
   "id": "3f674cb9",
   "metadata": {},
   "source": [
    "We can define an abstract method using @abstractmethod keyword on the top of a method. We can use abc module of python to achieve data abstraction in python. To define an abstract method in python we can import abstractmethod from the abc module of python."
   ]
  },
  {
   "cell_type": "markdown",
   "id": "dd1a0643",
   "metadata": {},
   "source": [
    "Q5. Can we create an instance of an abstract class? Explain your answer."
   ]
  },
  {
   "cell_type": "markdown",
   "id": "281e3fba",
   "metadata": {},
   "source": [
    "Abstract classes are not complete, as they may have some methods that are not defined. So we cannot create an instance or object of an abstract class in Python. If we try to instantiate the abstract class, it raises an error."
   ]
  },
  {
   "cell_type": "code",
   "execution_count": null,
   "id": "95a608c2",
   "metadata": {},
   "outputs": [],
   "source": []
  }
 ],
 "metadata": {
  "kernelspec": {
   "display_name": "Python 3 (ipykernel)",
   "language": "python",
   "name": "python3"
  },
  "language_info": {
   "codemirror_mode": {
    "name": "ipython",
    "version": 3
   },
   "file_extension": ".py",
   "mimetype": "text/x-python",
   "name": "python",
   "nbconvert_exporter": "python",
   "pygments_lexer": "ipython3",
   "version": "3.11.4"
  }
 },
 "nbformat": 4,
 "nbformat_minor": 5
}
