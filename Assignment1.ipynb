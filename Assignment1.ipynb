{
 "cells": [
  {
   "cell_type": "raw",
   "id": "086d2f65-8d92-47be-92e4-62da5d623547",
   "metadata": {},
   "source": [
    "Assignment 1 Answer"
   ]
  },
  {
   "cell_type": "markdown",
   "id": "5fd07ea5-f1bf-4e86-bf97-0563f9e7119d",
   "metadata": {},
   "source": [
    "Q1. Create one variable containing following type of data:\n",
    "\n",
    "(i)\tstring\n",
    "\n",
    "(ii)\tlist\n",
    "\n",
    "(iii)\tfloat\n",
    "\n",
    "(iv)\ttuple"
   ]
  },
  {
   "cell_type": "code",
   "execution_count": 1,
   "id": "9697f8a2-4168-421e-b534-a76f787532eb",
   "metadata": {},
   "outputs": [],
   "source": [
    "str=\"PWSkills\"\n",
    "list=[1,2.3,True,\"Pw\"]\n",
    "a=2.345\n",
    "tup=(1,2,\"pw\",5.6)"
   ]
  },
  {
   "cell_type": "markdown",
   "id": "7fc24aa7-5f7f-41ae-83aa-3130c63e296f",
   "metadata": {},
   "source": [
    "Q2. Given are some following variables containing data:\n",
    "\n",
    "(i)\tvar1 = ‘ ‘\n",
    "\n",
    "(ii)\tvar2 = ‘[ DS , ML , Python]’\n",
    "\n",
    "(iii)\tvar3 = [ ‘DS’ , ’ML’ , ‘Python’ ]\n",
    "\n",
    "(iv)\tvar4 = 1.\n",
    "\n",
    "\n",
    "What will be the data type of the above given variable."
   ]
  },
  {
   "cell_type": "code",
   "execution_count": null,
   "id": "89b250b7-9185-4a18-b21c-ebbd5ed8bb82",
   "metadata": {},
   "outputs": [],
   "source": [
    "Ans>\n",
    "(i) string\n",
    "(ii) string\n",
    "(iii) list\n",
    "(iv) int"
   ]
  },
  {
   "cell_type": "markdown",
   "id": "4fb105b4-5819-4572-8185-74cffe182445",
   "metadata": {},
   "source": [
    "Q3. Explain the use of the following operators using an example:\n",
    "\n",
    "(i)\t/\n",
    "\n",
    "(ii)\t% \n",
    "\n",
    "(iii)\t//\n",
    "\n",
    "(iv)\t**"
   ]
  },
  {
   "cell_type": "code",
   "execution_count": 3,
   "id": "75c2d44e-15c2-4153-9d05-4c2cd6ee614e",
   "metadata": {},
   "outputs": [
    {
     "name": "stdout",
     "output_type": "stream",
     "text": [
      "1.6666666666666667\n",
      "2\n",
      "1\n",
      "125\n"
     ]
    }
   ],
   "source": [
    "a=5\n",
    "b=3\n",
    "print(a/b) #division float\n",
    "print(a%b) #remainder\n",
    "print(a//b) #floor division\n",
    "print(a**b) #power"
   ]
  },
  {
   "cell_type": "markdown",
   "id": "44eecc3b-d2b7-4d97-9aa7-30fee9623060",
   "metadata": {},
   "source": [
    "Q4. Create a list of length 10 of your choice containing multiple types of data. Using for loop print the \n",
    "element and its data type."
   ]
  },
  {
   "cell_type": "code",
   "execution_count": 4,
   "id": "e8c3dd3f-1a5d-4b48-86ae-78a3ce338197",
   "metadata": {},
   "outputs": [
    {
     "name": "stdout",
     "output_type": "stream",
     "text": [
      "12\n",
      "2.55\n",
      "PW\n",
      "True\n",
      "c\n",
      "skill\n",
      "34\n",
      "3.45\n",
      "False\n"
     ]
    }
   ],
   "source": [
    "list=[12,2.55,\"PW\",True,'c',\"skill\",34,3.45,False]\n",
    "for i in list:\n",
    "    print(i)"
   ]
  },
  {
   "cell_type": "markdown",
   "id": "ce6251b1-f8c4-44dd-bfc6-3e69645ca330",
   "metadata": {},
   "source": [
    "Q5. Using a while loop, verify if the number A is purely divisible by number B and if so then how many \n",
    "times it can be divisible."
   ]
  },
  {
   "cell_type": "code",
   "execution_count": 10,
   "id": "c0bfde03-277e-4c40-ba8f-4db2813ba665",
   "metadata": {
    "tags": []
   },
   "outputs": [
    {
     "name": "stdin",
     "output_type": "stream",
     "text": [
      "Enter no A: 8\n",
      "Enter no B: 2\n"
     ]
    },
    {
     "name": "stdout",
     "output_type": "stream",
     "text": [
      "A is not divied by B\n"
     ]
    }
   ],
   "source": [
    "A=int(input(\"Enter no A:\"))\n",
    "B=int(input(\"Enter no B:\"))\n",
    "count=0\n",
    "while(A%B==1):\n",
    "    A=A//B\n",
    "    count+=1\n",
    "if(A==0):\n",
    "    print(\"A is divided by B and \",count,\" times it can be divisible.\")\n",
    "else:\n",
    "    print(\"A is not divied by B\")\n",
    "    "
   ]
  },
  {
   "cell_type": "markdown",
   "id": "d89eb1b9-c7d0-42b1-a4bc-8ed3898c6d45",
   "metadata": {},
   "source": [
    "Q6. Create a list containing 25 int type data. Using for loop and if-else condition print if the element is \n",
    "divisible by 3 or not."
   ]
  },
  {
   "cell_type": "code",
   "execution_count": 4,
   "id": "a26ee9a2-5920-4f02-a18e-835977ced5ed",
   "metadata": {},
   "outputs": [
    {
     "name": "stdout",
     "output_type": "stream",
     "text": [
      "[1, 2, 3, 4, 5, 6, 7, 8, 9, 10, 11, 12, 13, 14, 15, 16, 17, 18, 19, 20, 21, 22, 23, 24, 25]\n",
      "1 is not divided by 3\n",
      "2 is not divided by 3\n",
      "3 is divided by 3\n",
      "4 is not divided by 3\n",
      "5 is not divided by 3\n",
      "6 is divided by 3\n",
      "7 is not divided by 3\n",
      "8 is not divided by 3\n",
      "9 is divided by 3\n",
      "10 is not divided by 3\n",
      "11 is not divided by 3\n",
      "12 is divided by 3\n",
      "13 is not divided by 3\n",
      "14 is not divided by 3\n",
      "15 is divided by 3\n",
      "16 is not divided by 3\n",
      "17 is not divided by 3\n",
      "18 is divided by 3\n",
      "19 is not divided by 3\n",
      "20 is not divided by 3\n",
      "21 is divided by 3\n",
      "22 is not divided by 3\n",
      "23 is not divided by 3\n",
      "24 is divided by 3\n",
      "25 is not divided by 3\n"
     ]
    }
   ],
   "source": [
    "list=[]\n",
    "for j in range(1,26):\n",
    "    list.append(j)\n",
    "print(list)\n",
    "for i in list:\n",
    "    if(i%3==0):\n",
    "        print(i,\"is divided by 3\")\n",
    "    else:\n",
    "        print(i,\"is not divided by 3\")"
   ]
  },
  {
   "cell_type": "markdown",
   "id": "5dab71dd-83b5-4226-b3ca-ca619f48e8f2",
   "metadata": {},
   "source": [
    "Q7. What do you understand about mutable and immutable data types? Give examples for both showing \n",
    "this property"
   ]
  },
  {
   "cell_type": "code",
   "execution_count": 7,
   "id": "3d453f0d-07a9-4331-99b8-e0ba6dd30e17",
   "metadata": {},
   "outputs": [
    {
     "name": "stdout",
     "output_type": "stream",
     "text": [
      "[1, 2, 3, 4, 5]\n",
      "[1.2343, 2, 3, 4, 5]\n"
     ]
    }
   ],
   "source": [
    "#mutable data type is changable it can be change after creating data\n",
    "#immutable data type is unchangeble it can not accesable\n",
    "#ex: mutable is list and immutable is string,tuple etc.\n",
    "list=[1,2,3,4,5]\n",
    "print(list)\n",
    "#after mutation\n",
    "list[0]=1.2343\n",
    "print(list)"
   ]
  }
 ],
 "metadata": {
  "kernelspec": {
   "display_name": "Python 3 (ipykernel)",
   "language": "python",
   "name": "python3"
  },
  "language_info": {
   "codemirror_mode": {
    "name": "ipython",
    "version": 3
   },
   "file_extension": ".py",
   "mimetype": "text/x-python",
   "name": "python",
   "nbconvert_exporter": "python",
   "pygments_lexer": "ipython3",
   "version": "3.10.8"
  }
 },
 "nbformat": 4,
 "nbformat_minor": 5
}
