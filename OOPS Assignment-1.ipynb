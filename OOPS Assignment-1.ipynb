{
 "cells": [
  {
   "cell_type": "markdown",
   "id": "78fb5136",
   "metadata": {},
   "source": [
    "### OOOPS Assignment 1"
   ]
  },
  {
   "cell_type": "markdown",
   "id": "359f02b9",
   "metadata": {},
   "source": [
    "Q1. Explain Class and Object with respect to Object-Oriented Programming. Give a suitable example."
   ]
  },
  {
   "cell_type": "markdown",
   "id": "790f396c",
   "metadata": {},
   "source": [
    "In object-oriented programming (OOP), a class is a template for creating objects in a program. A class is a logical entity, while an object is a physical entity. A class is a user-defined data type that acts as a blueprint for individual objects, attributes, and methods. Objects are instances of a class created with specifically defined data. Objects can correspond to real-world objects or an abstract entity."
   ]
  },
  {
   "cell_type": "markdown",
   "id": "bec960a0",
   "metadata": {},
   "source": [
    "Let us consider an example : \n",
    "    if you have a class of car then it could contain object like Toyota, BMW. The price or speed of these car could be one of the data"
   ]
  },
  {
   "cell_type": "markdown",
   "id": "7b5079d0",
   "metadata": {},
   "source": [
    " Q2. Name the four pillars of OOPs."
   ]
  },
  {
   "cell_type": "markdown",
   "id": "2537acd1",
   "metadata": {},
   "source": [
    "i) Abstraction.\n",
    "ii) Encapsulation.\n",
    "iii) Inheritance.\n",
    "iv) Polymorphism."
   ]
  },
  {
   "cell_type": "markdown",
   "id": "b6f1a62a",
   "metadata": {},
   "source": [
    "Q3. Explain why the __init__() function is used. Give a suitable example."
   ]
  },
  {
   "cell_type": "markdown",
   "id": "219b00b1",
   "metadata": {},
   "source": [
    "The __init__ function is called every time an object is created from a class. The __init__ method lets the class initialize the object's attributes and serves no other purpose. It is only used within classes."
   ]
  },
  {
   "cell_type": "code",
   "execution_count": 13,
   "id": "1b3b3115",
   "metadata": {},
   "outputs": [],
   "source": [
    "class student:\n",
    "    def __init__(self,name):\n",
    "        self.name=name"
   ]
  },
  {
   "cell_type": "code",
   "execution_count": 14,
   "id": "df9dc535",
   "metadata": {},
   "outputs": [],
   "source": [
    "s=student(\"Sarthak Kalia\")"
   ]
  },
  {
   "cell_type": "code",
   "execution_count": 15,
   "id": "47b00b41",
   "metadata": {},
   "outputs": [
    {
     "data": {
      "text/plain": [
       "'Sarthak Kalia'"
      ]
     },
     "execution_count": 15,
     "metadata": {},
     "output_type": "execute_result"
    }
   ],
   "source": [
    "s.name"
   ]
  },
  {
   "cell_type": "markdown",
   "id": "201a2d9e",
   "metadata": {},
   "source": [
    " Q4. Why self is used in OOPs?"
   ]
  },
  {
   "cell_type": "markdown",
   "id": "0209149e",
   "metadata": {},
   "source": [
    "Self represents the instance of the class. By using the “self” we can access the attributes and methods of the class in Python."
   ]
  },
  {
   "cell_type": "markdown",
   "id": "1e1f92d8",
   "metadata": {},
   "source": [
    "Q5. What is inheritance? Give an example for each type of inheritance."
   ]
  },
  {
   "cell_type": "markdown",
   "id": "2cf752e3",
   "metadata": {},
   "source": [
    "Inheritance is a mechanism in object-oriented programming where a class inherits the properties of another class. For example, a child inherits the traits of their parents"
   ]
  },
  {
   "cell_type": "code",
   "execution_count": 16,
   "id": "9e32ca6c",
   "metadata": {},
   "outputs": [],
   "source": [
    "# This is an example of Single Inheritance\n",
    "class parent:\n",
    "    def fn1(self):\n",
    "        print(\"this is a function in parent class\")"
   ]
  },
  {
   "cell_type": "code",
   "execution_count": 17,
   "id": "cbe8dd1e",
   "metadata": {},
   "outputs": [],
   "source": [
    "class child(parent):\n",
    "    def fn2(self):\n",
    "        print(\"This is a function in child class\")"
   ]
  },
  {
   "cell_type": "code",
   "execution_count": 18,
   "id": "6cb0a44c",
   "metadata": {},
   "outputs": [],
   "source": [
    "obj=child()"
   ]
  },
  {
   "cell_type": "code",
   "execution_count": 19,
   "id": "816087f3",
   "metadata": {},
   "outputs": [
    {
     "name": "stdout",
     "output_type": "stream",
     "text": [
      "this is a function in parent class\n"
     ]
    }
   ],
   "source": [
    "obj.fn1()"
   ]
  },
  {
   "cell_type": "code",
   "execution_count": 20,
   "id": "4bca21b8",
   "metadata": {},
   "outputs": [
    {
     "name": "stdout",
     "output_type": "stream",
     "text": [
      "This is a function in child class\n"
     ]
    }
   ],
   "source": [
    "obj.fn2()"
   ]
  },
  {
   "cell_type": "code",
   "execution_count": 35,
   "id": "71a389a6",
   "metadata": {},
   "outputs": [],
   "source": [
    "# This is an example of multiple inheritance\n",
    "class father:\n",
    "    fname=\"\"\n",
    "    def father_name(self):\n",
    "        print(self.father_name)\n",
    "        \n",
    "class mother:\n",
    "    mname=\"\"\n",
    "    def mother_name(self):\n",
    "        print(self.mother_name)"
   ]
  },
  {
   "cell_type": "code",
   "execution_count": 36,
   "id": "9512e6b5",
   "metadata": {},
   "outputs": [],
   "source": [
    "class son(father,mother):\n",
    "    def parent(self):\n",
    "        print(\"Father =\" ,self.father_name)\n",
    "        print(\"Mother =\" ,self.mother_name)"
   ]
  },
  {
   "cell_type": "code",
   "execution_count": 37,
   "id": "2add96a9",
   "metadata": {},
   "outputs": [],
   "source": [
    "s1=son()"
   ]
  },
  {
   "cell_type": "code",
   "execution_count": 38,
   "id": "326394ab",
   "metadata": {},
   "outputs": [],
   "source": [
    "s1.father_name=\"Bapa\"\n",
    "s1.mother_name=\"maa\""
   ]
  },
  {
   "cell_type": "code",
   "execution_count": 39,
   "id": "29fc5423",
   "metadata": {},
   "outputs": [
    {
     "name": "stdout",
     "output_type": "stream",
     "text": [
      "Father = Bapa\n",
      "Mother = maa\n"
     ]
    }
   ],
   "source": [
    "s1.parent()"
   ]
  },
  {
   "cell_type": "code",
   "execution_count": null,
   "id": "80c80108",
   "metadata": {},
   "outputs": [],
   "source": []
  }
 ],
 "metadata": {
  "kernelspec": {
   "display_name": "Python 3 (ipykernel)",
   "language": "python",
   "name": "python3"
  },
  "language_info": {
   "codemirror_mode": {
    "name": "ipython",
    "version": 3
   },
   "file_extension": ".py",
   "mimetype": "text/x-python",
   "name": "python",
   "nbconvert_exporter": "python",
   "pygments_lexer": "ipython3",
   "version": "3.11.4"
  }
 },
 "nbformat": 4,
 "nbformat_minor": 5
}
