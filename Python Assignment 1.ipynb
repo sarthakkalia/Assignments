{
 "cells": [
  {
   "cell_type": "markdown",
   "id": "78c7e491",
   "metadata": {},
   "source": [
    "Q1. Which keyword is used to create a function? Create a function to return a list of odd numbers in the \n",
    "range of 1 to 25."
   ]
  },
  {
   "cell_type": "code",
   "execution_count": 4,
   "id": "34957d66",
   "metadata": {},
   "outputs": [
    {
     "data": {
      "text/plain": [
       "[1, 3, 5, 7, 9, 11, 13, 15, 17, 19, 21, 23, 25]"
      ]
     },
     "execution_count": 4,
     "metadata": {},
     "output_type": "execute_result"
    }
   ],
   "source": [
    "# def keyword is used to create a function\n",
    "def listOf_odd():\n",
    "    l=[]\n",
    "    for i in range(1,26):\n",
    "        if i%2!=0:\n",
    "            l.append(i)\n",
    "    return l\n",
    "listOf_odd()"
   ]
  },
  {
   "cell_type": "markdown",
   "id": "a11baecf",
   "metadata": {},
   "source": [
    "2. Why *args and **kwargs is used in some functions? Create a function each for *args and **kwargs \n",
    "to demonstrate their use."
   ]
  },
  {
   "cell_type": "markdown",
   "id": "5bb595f0",
   "metadata": {},
   "source": [
    "args are used because it allow funtion to pass arbitary number of argument and kwargs are used because it pass dictionary(key value pair) type to a function."
   ]
  },
  {
   "cell_type": "code",
   "execution_count": 11,
   "id": "6cc0b3df",
   "metadata": {},
   "outputs": [
    {
     "data": {
      "text/plain": [
       "([1, 2, 3, [34, 534.665, 'Hello'], 78],)"
      ]
     },
     "execution_count": 11,
     "metadata": {},
     "output_type": "execute_result"
    }
   ],
   "source": [
    "def hello(*args):\n",
    "    return args\n",
    "hello([1,2,3,[34,534.665,\"Hello\"],78])\n",
    "# hello((1,2,3,4,))"
   ]
  },
  {
   "cell_type": "code",
   "execution_count": 9,
   "id": "cdecccfa",
   "metadata": {},
   "outputs": [
    {
     "data": {
      "text/plain": [
       "{'name': 'Sarthak', 'age': 18}"
      ]
     },
     "execution_count": 9,
     "metadata": {},
     "output_type": "execute_result"
    }
   ],
   "source": [
    "def my_fun(**kwargs):\n",
    "    return kwargs\n",
    "my_fun(name=\"Sarthak\",age=18)"
   ]
  },
  {
   "cell_type": "markdown",
   "id": "df0780e8",
   "metadata": {},
   "source": [
    "Q3.  What is an iterator in python? Name the method used to initialise the iterator object and the method \n",
    "used for iteration. Use these methods to print the first five elements of the given list [2, 4, 6, 8, 10, 12, 14, \n",
    "16, 18, 20]"
   ]
  },
  {
   "cell_type": "markdown",
   "id": "98b30971",
   "metadata": {},
   "source": [
    "An iterator in Python is an object that allow to traverse through all the elements of a collection. The method used to initialise the iterator object is iter() method and the method used for iteration is called for loop."
   ]
  },
  {
   "cell_type": "code",
   "execution_count": 2,
   "id": "733b17da",
   "metadata": {},
   "outputs": [
    {
     "name": "stdout",
     "output_type": "stream",
     "text": [
      "2\n",
      "4\n",
      "6\n",
      "8\n",
      "10\n"
     ]
    }
   ],
   "source": [
    "l = [2, 4, 6, 8, 10, 12, 14, 16, 18, 20]\n",
    "my_iterator = iter(l)\n",
    "for i in range(5):\n",
    "    print(next(my_iterator))"
   ]
  },
  {
   "cell_type": "markdown",
   "id": "9a852e79",
   "metadata": {},
   "source": [
    "Q4.  What is a generator function in python? Why yield keyword is used? Give an example of a generator \n",
    "function"
   ]
  },
  {
   "cell_type": "markdown",
   "id": "d6a93dda",
   "metadata": {},
   "source": [
    "Generator function are sepecial type of function which does not return single value , instead return an iterator object with one by one value. Yield keyword is used to create a generator function.\n",
    "An ex of generator fun is:"
   ]
  },
  {
   "cell_type": "code",
   "execution_count": 6,
   "id": "fe244b78",
   "metadata": {},
   "outputs": [
    {
     "name": "stdout",
     "output_type": "stream",
     "text": [
      "0\n",
      "1\n",
      "2\n",
      "3\n",
      "4\n"
     ]
    }
   ],
   "source": [
    "def count_fun(n):\n",
    "    c=0\n",
    "    while c!=n:\n",
    "        yield c\n",
    "        c+=1\n",
    "count=count_fun(5)\n",
    "for i in count:\n",
    "    print(i)"
   ]
  },
  {
   "cell_type": "markdown",
   "id": "48a097dc",
   "metadata": {},
   "source": [
    "Q5. Create a generator function for prime numbers less than 1000. Use the next() method to print the \n",
    "first 20 prime numbers."
   ]
  },
  {
   "cell_type": "code",
   "execution_count": 41,
   "id": "e32b0bc9",
   "metadata": {},
   "outputs": [
    {
     "name": "stdout",
     "output_type": "stream",
     "text": [
      "2\n",
      "3\n",
      "5\n",
      "7\n",
      "11\n",
      "13\n",
      "17\n",
      "19\n",
      "23\n",
      "29\n",
      "31\n",
      "37\n",
      "41\n",
      "43\n",
      "47\n",
      "53\n",
      "59\n",
      "61\n",
      "67\n",
      "71\n"
     ]
    }
   ],
   "source": [
    "def is_primt(n):\n",
    "    if(n%2==0):\n",
    "        return False\n",
    "    else:\n",
    "        for i in (1,n/2,2):\n",
    "            if(n%i)==0:\n",
    "                return False\n",
    "            else:\n",
    "                return True\n",
    "\n",
    "def prime_generator(n):\n",
    "    num = 2\n",
    "    count = 0\n",
    "    while num < n and count < 20:\n",
    "        if is_prime(num):\n",
    "            yield num\n",
    "            count += 1\n",
    "        num += 1\n",
    "\n",
    "prime_gen = prime_generator(1000)\n",
    "for _ in range(20):\n",
    "    prime = next(prime_gen)\n",
    "    print(prime)\n"
   ]
  },
  {
   "cell_type": "markdown",
   "id": "9342f855",
   "metadata": {},
   "source": [
    "Q6. Write a python program to print the first 10 Fibonacci numbers using a while loop."
   ]
  },
  {
   "cell_type": "code",
   "execution_count": 12,
   "id": "98b0943a",
   "metadata": {},
   "outputs": [
    {
     "name": "stdout",
     "output_type": "stream",
     "text": [
      "0\n",
      "1\n",
      "1\n",
      "2\n",
      "3\n",
      "5\n",
      "8\n",
      "13\n",
      "21\n",
      "34\n"
     ]
    }
   ],
   "source": [
    "def fib():\n",
    "    a,b=0,1\n",
    "    while True:\n",
    "        yield a\n",
    "        a,b=b,a+b\n",
    "fib_next=fib()\n",
    "for i in range(10):\n",
    "    print(next(fib_next))"
   ]
  },
  {
   "cell_type": "markdown",
   "id": "caaa5913",
   "metadata": {},
   "source": [
    "Q7. Write a List Comprehension to iterate through the given string: ‘pwskills’.\n",
    "\n",
    "Expected output: ['p', 'w', 's', 'k', 'i', 'l', 'l', 's'] "
   ]
  },
  {
   "cell_type": "code",
   "execution_count": 20,
   "id": "0f7eadcb",
   "metadata": {},
   "outputs": [
    {
     "name": "stdout",
     "output_type": "stream",
     "text": [
      "['p', 'w', 's', 'k', 'i', 'l', 'l', 's']\n"
     ]
    }
   ],
   "source": [
    "str=\"pwskills\"\n",
    "list_=[]\n",
    "for i in str:\n",
    "    list_.append(i)\n",
    "print(list_)"
   ]
  },
  {
   "cell_type": "markdown",
   "id": "1f001998",
   "metadata": {},
   "source": [
    "Q8. Write a python program to check whether a given number is Palindrome or not using a while loop."
   ]
  },
  {
   "cell_type": "code",
   "execution_count": 21,
   "id": "901f9d59",
   "metadata": {},
   "outputs": [
    {
     "name": "stdout",
     "output_type": "stream",
     "text": [
      "Enter a no:12321\n",
      "12321 is a palindrome no.\n"
     ]
    }
   ],
   "source": [
    "n=int(input(\"Enter a no:\"))\n",
    "tno=n\n",
    "sum=0\n",
    "while n!=0:\n",
    "    d=n%10\n",
    "    sum=sum*10+d\n",
    "    n=n//10\n",
    "if tno==sum:\n",
    "    print(f\"{tno} is a palindrome no.\")\n",
    "else:\n",
    "    print(f\"{tno} is not a palindrome no.\")"
   ]
  },
  {
   "cell_type": "markdown",
   "id": "39a2f45d",
   "metadata": {},
   "source": [
    "Q9. Write a code to print odd numbers from 1 to 100 using list comprehension."
   ]
  },
  {
   "cell_type": "code",
   "execution_count": 36,
   "id": "053e80df",
   "metadata": {},
   "outputs": [
    {
     "name": "stdout",
     "output_type": "stream",
     "text": [
      "[1, 3, 5, 7, 9, 11, 13, 15, 17, 19, 21, 23, 25, 27, 29, 31, 33, 35, 37, 39, 41, 43, 45, 47, 49, 51, 53, 55, 57, 59, 61, 63, 65, 67, 69, 71, 73, 75, 77, 79, 81, 83, 85, 87, 89, 91, 93, 95, 97, 99]\n"
     ]
    }
   ],
   "source": [
    "l=[]\n",
    "for i in range(1,101):\n",
    "    l.append(i)\n",
    "l_odd=[]\n",
    "for i in l:\n",
    "    if(i%2!=0):\n",
    "        l_odd.append(i)\n",
    "print(l_odd)"
   ]
  }
 ],
 "metadata": {
  "kernelspec": {
   "display_name": "Python 3 (ipykernel)",
   "language": "python",
   "name": "python3"
  },
  "language_info": {
   "codemirror_mode": {
    "name": "ipython",
    "version": 3
   },
   "file_extension": ".py",
   "mimetype": "text/x-python",
   "name": "python",
   "nbconvert_exporter": "python",
   "pygments_lexer": "ipython3",
   "version": "3.11.4"
  }
 },
 "nbformat": 4,
 "nbformat_minor": 5
}
