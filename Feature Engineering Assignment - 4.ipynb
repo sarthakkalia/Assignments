{
 "cells": [
  {
   "cell_type": "markdown",
   "id": "9661f5bf",
   "metadata": {},
   "source": [
    "# Feature Engineering Assignment - 4"
   ]
  },
  {
   "cell_type": "markdown",
   "id": "da88674b",
   "metadata": {},
   "source": [
    "**Q1. What is the difference between Ordinal Encoding and Label Encoding? Provide an example of when you\n",
    "might choose one over the other.**"
   ]
  },
  {
   "cell_type": "markdown",
   "id": "66c8d443",
   "metadata": {},
   "source": [
    "Ordinal encoding and label encoding are both techniques used in machine learning to represent categorical data numerically. However, they are used in different contexts and have some distinctions.\n",
    "\n",
    "1. **Label Encoding:**\n",
    "   - In label encoding, each unique category is assigned a unique integer label.\n",
    "   - The order of the labels does not convey any information about the relationships between categories. It's just a numerical representation.\n",
    "   - Label encoding is commonly used for nominal data (categories without an inherent order).\n",
    "\n",
    "2. **Ordinal Encoding:**\n",
    "   - Ordinal encoding is used when there is an inherent order or ranking among the categories.\n",
    "   - It assigns integer labels to categories based on their order, preserving the information about the ordinal relationship between them.\n",
    "   - Ordinal encoding is suitable for ordinal data (categories with a meaningful order)."
   ]
  },
  {
   "cell_type": "code",
   "execution_count": 9,
   "id": "ba8d458f",
   "metadata": {},
   "outputs": [
    {
     "name": "stdout",
     "output_type": "stream",
     "text": [
      "Color Encoding: [2 1 0 2 0]\n",
      "Categories Encoding: [[0.]\n",
      " [1.]\n",
      " [2.]\n",
      " [1.]\n",
      " [0.]]\n"
     ]
    }
   ],
   "source": [
    "from sklearn.preprocessing import LabelEncoder, OrdinalEncoder\n",
    "\n",
    "color = ['Red', 'Green', 'Blue', 'Red', 'Blue']\n",
    "categories = ['Low', 'Medium', 'High', 'Medium', 'Low']\n",
    "\n",
    "# Label Encoding for color\n",
    "color_encoder = LabelEncoder()\n",
    "color_encoding = color_encoder.fit_transform(color)\n",
    "print(\"Color Encoding:\", color_encoding)\n",
    "\n",
    "# Ordinal Encoding for categories\n",
    "ordinal_encoder = OrdinalEncoder(categories=[['Low', 'Medium', 'High']])\n",
    "categories = [['Low'], ['Medium'], ['High'], ['Medium'], ['Low']]  \n",
    "categories_encoding = ordinal_encoder.fit_transform(categories)\n",
    "print(\"Categories Encoding:\", categories_encoding)\n"
   ]
  },
  {
   "cell_type": "markdown",
   "id": "68ed7e92",
   "metadata": {},
   "source": [
    "**Q2. Explain how Target Guided Ordinal Encoding works and provide an example of when you might use it in\n",
    "a machine learning project.**"
   ]
  },
  {
   "cell_type": "markdown",
   "id": "9f134841",
   "metadata": {},
   "source": [
    "Target Guided Ordinal Encoding is a technique used to encode categorical variables based on the mean or other statistical measure of the target variable for each category. The steps involved are:\n",
    "\n",
    "1. **Calculate the Mean Target for Each Category:**\n",
    "   - Group the data by the categorical variable.\n",
    "   - Calculate the mean (or another statistical measure) of the target variable for each category.\n",
    "\n",
    "2. **Order Categories Based on Target Mean:**\n",
    "   - Order the categories based on the calculated mean of the target variable in ascending or descending order.\n",
    "\n",
    "3. **Assign Ordinal Labels:**\n",
    "   - Assign ordinal labels to the categories based on their order of means. The category with the lowest mean gets the lowest label, and so on.\n",
    "\n",
    "The idea is to leverage information from the target variable to encode categorical variables in a way that reflects their impact on the target. This is particularly useful when dealing with ordinal data where the order of categories matters in relation to the target variable."
   ]
  },
  {
   "cell_type": "code",
   "execution_count": 12,
   "id": "ff5c7aaf",
   "metadata": {},
   "outputs": [
    {
     "name": "stdout",
     "output_type": "stream",
     "text": [
      "  Category  Target  Category_encoded\n",
      "0        A       1          0.666667\n",
      "1        B       0          0.333333\n",
      "2        A       1          0.666667\n",
      "3        C       0          0.666667\n",
      "4        B       1          0.333333\n",
      "5        C       1          0.666667\n",
      "6        A       0          0.666667\n",
      "7        B       0          0.333333\n",
      "8        C       1          0.666667\n"
     ]
    }
   ],
   "source": [
    "import pandas as pd\n",
    "\n",
    "data = {\n",
    "    'Category': ['A', 'B', 'A', 'C', 'B', 'C', 'A', 'B', 'C'],\n",
    "    'Target': [1, 0, 1, 0, 1, 1, 0, 0, 1]\n",
    "}\n",
    "\n",
    "df = pd.DataFrame(data)\n",
    "\n",
    "mean_target = df.groupby('Category')['Target'].mean().to_dict()\n",
    "\n",
    "\n",
    "df['Category_encoded'] = df['Category'].map(mean_target)\n",
    "\n",
    "print(df)\n"
   ]
  },
  {
   "cell_type": "markdown",
   "id": "a6f679b5",
   "metadata": {},
   "source": [
    "**Q3. Define covariance and explain why it is important in statistical analysis. How is covariance calculated?**"
   ]
  },
  {
   "cell_type": "markdown",
   "id": "9838b5fc",
   "metadata": {},
   "source": [
    "**Covariance:**\n",
    "Covariance is a measure of how much two random variables change together. It indicates the direction of the linear relationship between two variables. In other words, it measures the extent to which one variable tends to increase or decrease as the other variable does. A positive covariance suggests a direct relationship (both variables tend to increase or decrease together), while a negative covariance suggests an inverse relationship (one variable tends to increase as the other decreases).\n",
    "\n",
    "**Importance in Statistical Analysis:**\n",
    "1. **Relationship Assessment:** Covariance is crucial for understanding the relationship between two variables. It helps identify whether an increase in one variable is associated with an increase or decrease in another.\n",
    "\n",
    "2. **Portfolio Diversification:** In finance, covariance is used to analyze the relationships between the returns of different assets. Positive covariance indicates that the assets move in the same direction, while negative covariance suggests diversification potential.\n",
    "\n",
    "3. **Regression Analysis:** In linear regression, covariance is used to estimate the coefficients of the model. The covariance between the independent and dependent variables is a key factor in determining the slope of the regression line.\n",
    "\n",
    "**Calculation of Covariance:**\n",
    "The covariance between two variables, X and Y, is calculated using the following formula:\n",
    "\n",
    "\\[ \\text{Cov}(X, Y) = \\frac{\\sum_{i=1}^{n}(X_i - \\bar{X})(Y_i - \\bar{Y})}{n-1} \\]\n",
    "\n",
    "Where:\n",
    "- \\(X_i\\) and \\(Y_i\\) are individual data points.\n",
    "- \\(\\bar{X}\\) and \\(\\bar{Y}\\) are the means of X and Y, respectively.\n",
    "- \\(n\\) is the number of data points.\n",
    "\n",
    "Alternatively, it can be expressed using the expected values (means) as:\n",
    "\n",
    "\\[ \\text{Cov}(X, Y) = \\mathbb{E}[(X - \\mu_X)(Y - \\mu_Y)] \\]\n",
    "\n",
    "Covariance has some limitations, such as being sensitive to the scale of the variables, and it doesn't provide a standardized measure of the strength of the relationship. For a standardized measure, the correlation coefficient is often used, which is the covariance normalized by the standard deviations of the variables."
   ]
  },
  {
   "cell_type": "markdown",
   "id": "f79f8fff",
   "metadata": {},
   "source": [
    " **Q4. For a dataset with the following categorical variables: Color (red, green, blue), Size (small, medium,\n",
    "large), and Material (wood, metal, plastic), perform label encoding using Python's scikit-learn library.\n",
    "Show your code and explain the output.**"
   ]
  },
  {
   "cell_type": "code",
   "execution_count": 29,
   "id": "ab1c31a2",
   "metadata": {},
   "outputs": [
    {
     "name": "stdout",
     "output_type": "stream",
     "text": [
      "   Color    Size Material  Color_encoded  Size_encoded  Material_encoded\n",
      "0    Red     Low     wood              2             1                 2\n",
      "1  Green  Medium    metal              1             2                 0\n",
      "2   Blue    High  plastic              0             0                 1\n",
      "3    Red  Medium    metal              2             2                 0\n",
      "4   Blue     Low     wood              0             1                 2\n"
     ]
    }
   ],
   "source": [
    "Color = ['Red', 'Green', 'Blue', 'Red', 'Blue']\n",
    "Size = ['Low', 'Medium', 'High', 'Medium', 'Low']\n",
    "Material=['wood','metal','plastic','metal','wood']\n",
    "df = pd.DataFrame({'Color': Color, 'Size': Size, 'Material': Material})\n",
    "from sklearn.preprocessing import LabelEncoder\n",
    "encoder=LabelEncoder()\n",
    "column=['Color','Size','Material']\n",
    "\n",
    "for columns in column:\n",
    "    df[columns+'_encoded']=encoder.fit_transform(df[columns])\n",
    "print(df)"
   ]
  },
  {
   "cell_type": "markdown",
   "id": "3d9118dc",
   "metadata": {},
   "source": [
    "**Q5. Calculate the covariance matrix for the following variables in a dataset: Age, Income, and Education\n",
    "level. Interpret the results.**"
   ]
  },
  {
   "cell_type": "code",
   "execution_count": 31,
   "id": "98e514cd",
   "metadata": {},
   "outputs": [
    {
     "name": "stdout",
     "output_type": "stream",
     "text": [
      "Covariance Matrix:\n",
      "                     Age       Income  EducationLevel\n",
      "Age                 62.5     125000.0            22.5\n",
      "Income          125000.0  255000000.0         42500.0\n",
      "EducationLevel      22.5      42500.0            10.0\n"
     ]
    }
   ],
   "source": [
    "import pandas as pd\n",
    "data = {\n",
    "    'Age': [25, 30, 35, 40, 45],\n",
    "    'Income': [50000, 60000, 75000, 80000, 90000],\n",
    "    'EducationLevel': [12, 16, 14, 18, 20]\n",
    "}\n",
    "\n",
    "df = pd.DataFrame(data)\n",
    "\n",
    "covariance_matrix = df.cov()\n",
    "\n",
    "print(\"Covariance Matrix:\")\n",
    "print(covariance_matrix)\n"
   ]
  },
  {
   "cell_type": "markdown",
   "id": "091f86a0",
   "metadata": {},
   "source": [
    "**Q6. You are working on a machine learning project with a dataset containing several categorical\n",
    "variables, including \"Gender\" (Male/Female), \"Education Level\" (High School/Bachelor's/Master's/PhD),\n",
    "and \"Employment Status\" (Unemployed/Part-Time/Full-Time). Which encoding method would you use for\n",
    "each variable, and why?**"
   ]
  },
  {
   "cell_type": "markdown",
   "id": "757d098c",
   "metadata": {},
   "source": [
    "When dealing with categorical variables in a machine learning project, the choice of encoding method depends on the nature of the variables and the machine learning algorithm you plan to use. Here's a general guideline for encoding the given categorical variables:\n",
    "\n",
    "1. **Gender (Binary Categorical Variable):**\n",
    "   - **Encoding Method:** Label Encoding or One-Hot Encoding.\n",
    "   - **Explanation:**\n",
    "     - For binary categorical variables like \"Gender\" (Male/Female), you can use label encoding (0 and 1) if there is no inherent ordinal relationship between the categories.\n",
    "     - Alternatively, one-hot encoding can be used to create two binary columns, one for Male and one for Female. This is useful when there is no ordinal relationship, and you want to avoid implying an order with label encoding.\n",
    "\n",
    "2. **Education Level (Ordinal Categorical Variable):**\n",
    "   - **Encoding Method:** Ordinal Encoding or One-Hot Encoding.\n",
    "   - **Explanation:**\n",
    "     - Since \"Education Level\" has an inherent order (e.g., High School < Bachelor's < Master's < PhD), you can use ordinal encoding to preserve this order.\n",
    "     - Alternatively, one-hot encoding is suitable if you prefer to treat education levels as distinct categories without assuming a specific order. However, this may result in a larger feature space.\n",
    "\n",
    "3. **Employment Status (Nominal Categorical Variable):**\n",
    "   - **Encoding Method:** One-Hot Encoding.\n",
    "   - **Explanation:**\n",
    "     - \"Employment Status\" is likely nominal, meaning there is no inherent order among the categories (Unemployed, Part-Time, Full-Time). One-hot encoding is appropriate for nominal variables because it creates binary columns for each category.\n",
    "\n",
    "In summary:\n",
    "- Use label encoding or one-hot encoding for binary variables like \"Gender.\"\n",
    "- Use ordinal encoding or one-hot encoding for ordinal variables like \"Education Level.\"\n",
    "- Use one-hot encoding for nominal variables like \"Employment Status.\"\n",
    "\n",
    "Remember that the choice of encoding can impact the performance of your machine learning model, so it's important to consider the characteristics of each variable and experiment to find the encoding that works best for your specific case. Additionally, some machine learning algorithms may be sensitive to the choice of encoding, so it's a good practice to check the documentation or conduct experiments to determine the most suitable approach for your model."
   ]
  },
  {
   "cell_type": "markdown",
   "id": "6dc0003b",
   "metadata": {},
   "source": [
    "**Q7. You are analyzing a dataset with two continuous variables, \"Temperature\" and \"Humidity\", and two\n",
    "categorical variables, \"Weather Condition\" (Sunny/Cloudy/Rainy) and \"Wind Direction\" (North/South/\n",
    "East/West). Calculate the covariance between each pair of variables and interpret the results.**"
   ]
  },
  {
   "cell_type": "code",
   "execution_count": 34,
   "id": "b7bf36cd",
   "metadata": {},
   "outputs": [
    {
     "name": "stdout",
     "output_type": "stream",
     "text": [
      "Covariance Matrix:\n",
      "             Temperature  Humidity\n",
      "Temperature          9.2      28.5\n",
      "Humidity            28.5      92.5\n"
     ]
    }
   ],
   "source": [
    "import pandas as pd\n",
    "\n",
    "# Example Data\n",
    "data = {\n",
    "    'Temperature': [25, 28, 22, 30, 26],\n",
    "    'Humidity': [50, 60, 45, 70, 55],\n",
    "    'Weather Condition': ['Sunny', 'Cloudy', 'Rainy', 'Sunny', 'Cloudy'],\n",
    "    'Wind Direction': ['North', 'South', 'East', 'West', 'North']\n",
    "}\n",
    "\n",
    "df = pd.DataFrame(data)\n",
    "\n",
    "# Calculate the covariance matrix\n",
    "covariance_matrix = df[['Temperature','Humidity']].cov()\n",
    "\n",
    "# Display the covariance matrix\n",
    "print(\"Covariance Matrix:\")\n",
    "print(covariance_matrix)\n"
   ]
  },
  {
   "cell_type": "markdown",
   "id": "8872bb42",
   "metadata": {},
   "source": [
    "Interpreting the results:\n",
    "\n",
    "The diagonal elements represent the variance of each variable.\n",
    "The off-diagonal elements represent the covariances between pairs of variables.\n",
    "The interpretation of covariance for continuous variables (Temperature and Humidity) is straightforward:\n",
    "\n",
    "A positive covariance between Temperature and Humidity suggests that as one variable increases, the other tends to increase.\n",
    "A negative covariance suggests an inverse relationship"
   ]
  },
  {
   "cell_type": "markdown",
   "id": "0576c297",
   "metadata": {},
   "source": []
  },
  {
   "cell_type": "markdown",
   "id": "1d4ac8a5",
   "metadata": {},
   "source": []
  },
  {
   "cell_type": "markdown",
   "id": "be9702c1",
   "metadata": {},
   "source": []
  },
  {
   "cell_type": "code",
   "execution_count": null,
   "id": "4906ba10",
   "metadata": {},
   "outputs": [],
   "source": []
  }
 ],
 "metadata": {
  "kernelspec": {
   "display_name": "Python 3 (ipykernel)",
   "language": "python",
   "name": "python3"
  },
  "language_info": {
   "codemirror_mode": {
    "name": "ipython",
    "version": 3
   },
   "file_extension": ".py",
   "mimetype": "text/x-python",
   "name": "python",
   "nbconvert_exporter": "python",
   "pygments_lexer": "ipython3",
   "version": "3.11.4"
  }
 },
 "nbformat": 4,
 "nbformat_minor": 5
}
